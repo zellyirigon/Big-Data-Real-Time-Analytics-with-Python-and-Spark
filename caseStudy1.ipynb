{
 "cells": [
  {
   "cell_type": "markdown",
   "id": "98fda2a4-45cd-4eec-89fe-aae97b932289",
   "metadata": {},
   "source": [
    "# Case Study - 1 \n"
   ]
  },
  {
   "cell_type": "markdown",
   "id": "842300f8-4d06-4bd0-9d05-32871d8bfbac",
   "metadata": {},
   "source": [
    "## Project Introduction: Big Data Real-Time Analytics with Python and Spark \n",
    "\n",
    "This project showcases the practical application of Python and Spark in managing and analysing large-scale data, emphasising the importance of data preparation for successful analytics.\n",
    "\n",
    "\n",
    "Dataset Description\n",
    "1. Lending Club Loans: A dataset of thousands of loans made through the Lending Club platform, highlighting borrower risk and loan conditions.\n",
    "2. Exchange Rates: Historical exchange rates between the US Dollar and the Euro from Yahoo Finance.\n",
    "\n",
    "Objectives\n",
    "* Data Cleaning: Preparing the datasets by handling missing values and inconsistencies.\n",
    "* Real-Time Analytics: Using Python and Spark for real-time data processing and analysis.\n",
    "* Insight Generation: Extracting meaningful insights for decision-making.\n",
    "  \n",
    "This project leverages Big Data technologies for real-time analytics using Python and Spark, guided by the Data Science Academy.\n",
    "\n",
    "References\n",
    "- [Lending Club Dataset](https://www.openintro.org/data/index.php?data=loans_full_schema)\n",
    "- [Yahoo Finance Exchange Rate Data](https://finance.yahoo.com/)"
   ]
  },
  {
   "cell_type": "code",
   "execution_count": 1,
   "id": "57819abe-ad88-41b5-b82b-01da2488c2eb",
   "metadata": {},
   "outputs": [],
   "source": [
    "!pip install -q -U watermark"
   ]
  },
  {
   "cell_type": "code",
   "execution_count": 2,
   "id": "06aeacbd-02a1-4d77-a952-0de5c21d75a5",
   "metadata": {},
   "outputs": [],
   "source": [
    "import numpy as np"
   ]
  },
  {
   "cell_type": "code",
   "execution_count": 3,
   "id": "ef8fbd8f-2f68-4d7f-872f-b5460de63f87",
   "metadata": {},
   "outputs": [],
   "source": [
    "import warnings\n",
    "warnings.filterwarnings('ignore')"
   ]
  },
  {
   "cell_type": "code",
   "execution_count": 4,
   "id": "a5b863b7-bac0-4086-bb26-251622295119",
   "metadata": {},
   "outputs": [
    {
     "name": "stdout",
     "output_type": "stream",
     "text": [
      "Author: Zelly Irigon\n",
      "\n",
      "numpy: 1.26.4\n",
      "\n"
     ]
    }
   ],
   "source": [
    "%reload_ext watermark\n",
    "%watermark -a \"Zelly Irigon\" --iversions"
   ]
  },
  {
   "cell_type": "markdown",
   "id": "594a15e4-0358-4333-98db-54a8d7462d8b",
   "metadata": {},
   "source": [
    "\n",
    "[set_printoptions numpy doc](https://numpy.org/doc/stable/reference/generated/numpy.set_printoptions.html#numpy-set-printoptions)"
   ]
  },
  {
   "cell_type": "code",
   "execution_count": 5,
   "id": "02e8ea20-bcfe-41ec-98f7-fcdf7064b00d",
   "metadata": {},
   "outputs": [],
   "source": [
    "# Numpy print configuration\n",
    "np.set_printoptions(suppress = True, linewidth = 200, precision = 2)"
   ]
  },
  {
   "cell_type": "markdown",
   "id": "fead2a52-2e27-47b8-bdf5-fa7296d75089",
   "metadata": {},
   "source": [
    "## Loading the dataset\n",
    "- https://numpy.org/doc/stable/reference/generated/numpy.genfromtxt.html#numpy.genfromtxt"
   ]
  },
  {
   "cell_type": "code",
   "execution_count": 6,
   "id": "08f284be-52e4-4ad5-827a-2a0190b85840",
   "metadata": {},
   "outputs": [],
   "source": [
    "data = np.genfromtxt(\"data_set/dataset1.csv\",\n",
    "                     delimiter = ';',\n",
    "                     skip_header = 1,\n",
    "                     autostrip = True, #remove spaces\n",
    "                     encoding = 'cp1252')"
   ]
  },
  {
   "cell_type": "code",
   "execution_count": 7,
   "id": "0daa3031-0b77-40f7-8b19-fdb76ba01225",
   "metadata": {},
   "outputs": [
    {
     "data": {
      "text/plain": [
       "numpy.ndarray"
      ]
     },
     "execution_count": 7,
     "metadata": {},
     "output_type": "execute_result"
    }
   ],
   "source": [
    "type(data)"
   ]
  },
  {
   "cell_type": "code",
   "execution_count": 8,
   "id": "821f2dd9-decb-4d77-8220-6db1ad84740c",
   "metadata": {},
   "outputs": [
    {
     "data": {
      "text/plain": [
       "(10000, 14)"
      ]
     },
     "execution_count": 8,
     "metadata": {},
     "output_type": "execute_result"
    }
   ],
   "source": [
    "data.shape"
   ]
  },
  {
   "cell_type": "code",
   "execution_count": 9,
   "id": "b856ce10-f85d-48c0-bf70-738fbaa41f3a",
   "metadata": {},
   "outputs": [
    {
     "data": {
      "text/plain": [
       "array([[48010226.  ,         nan,    35000.  , ...,         nan,         nan,     9452.96],\n",
       "       [57693261.  ,         nan,    30000.  , ...,         nan,         nan,     4679.7 ],\n",
       "       [59432726.  ,         nan,    15000.  , ...,         nan,         nan,     1969.83],\n",
       "       ...,\n",
       "       [50415990.  ,         nan,    10000.  , ...,         nan,         nan,     2185.64],\n",
       "       [46154151.  ,         nan,         nan, ...,         nan,         nan,     3199.4 ],\n",
       "       [66055249.  ,         nan,    10000.  , ...,         nan,         nan,      301.9 ]])"
      ]
     },
     "execution_count": 9,
     "metadata": {},
     "output_type": "execute_result"
    }
   ],
   "source": [
    "data.view()"
   ]
  },
  {
   "cell_type": "markdown",
   "id": "95a67f7e-27e4-40c7-b6e5-27d0de9bd293",
   "metadata": {},
   "source": [
    "Notice how several columns above are of the nan type. This is due to special characters in the dataset and the way Numpy loads numeric and string data. Next, we will address this."
   ]
  },
  {
   "cell_type": "markdown",
   "id": "2496e8fa-90d0-4246-8518-1ad1cde5483f",
   "metadata": {},
   "source": [
    "### Checking for missing values"
   ]
  },
  {
   "cell_type": "code",
   "execution_count": 10,
   "id": "78474fda-1440-45ab-82af-59c14dce0e16",
   "metadata": {},
   "outputs": [
    {
     "data": {
      "text/plain": [
       "88005"
      ]
     },
     "execution_count": 10,
     "metadata": {},
     "output_type": "execute_result"
    }
   ],
   "source": [
    "np.isnan(data).sum()"
   ]
  },
  {
   "cell_type": "code",
   "execution_count": 11,
   "id": "9ff97176-61e9-4e0d-9f50-58b1487d023c",
   "metadata": {},
   "outputs": [
    {
     "data": {
      "text/plain": [
       "68616520.0"
      ]
     },
     "execution_count": 11,
     "metadata": {},
     "output_type": "execute_result"
    }
   ],
   "source": [
    "# Returns the highest value + 1 ignoring nan values.\n",
    "# This arbitrary value will be used to fill missing values at the time of loading numeric variable data. \n",
    "# At a later stage, this value will be treated as a missing value.\n",
    "arbitrary_value = np.nanmax(data) +1\n",
    "arbitrary_value"
   ]
  },
  {
   "cell_type": "code",
   "execution_count": 12,
   "id": "dadc6e04-fcc5-4a19-b16f-58f9a4a5dedb",
   "metadata": {},
   "outputs": [
    {
     "data": {
      "text/plain": [
       "array([54015809.19,         nan,    15273.46,         nan,    15311.04,         nan,       16.62,      440.92,         nan,         nan,         nan,         nan,         nan,     3143.85])"
      ]
     },
     "execution_count": 12,
     "metadata": {},
     "output_type": "execute_result"
    }
   ],
   "source": [
    "# Calculating the mean (numeric variables) ignoring nan values per column. I will use this to separate numeric variables from string-type variables.\n",
    "mean_ignoring_nan = np.nanmean(data, axis = 0)\n",
    "mean_ignoring_nan"
   ]
  },
  {
   "cell_type": "code",
   "execution_count": 13,
   "id": "51fa4d84-832a-4a57-ac78-02125d670bed",
   "metadata": {},
   "outputs": [
    {
     "data": {
      "text/plain": [
       "array([ 1,  3,  5,  8,  9, 10, 11, 12], dtype=int64)"
      ]
     },
     "execution_count": 13,
     "metadata": {},
     "output_type": "execute_result"
    }
   ],
   "source": [
    "# String-type columns with missing values\n",
    "string_columns = np.argwhere(np.isnan(mean_ignoring_nan)).squeeze()\n",
    "string_columns"
   ]
  },
  {
   "cell_type": "code",
   "execution_count": 14,
   "id": "7e9bd397-5a22-42f8-88c8-5b2e17f5f2e3",
   "metadata": {},
   "outputs": [
    {
     "data": {
      "text/plain": [
       "array([ 0,  2,  4,  6,  7, 13], dtype=int64)"
      ]
     },
     "execution_count": 14,
     "metadata": {},
     "output_type": "execute_result"
    }
   ],
   "source": [
    "# Numeric Columns\n",
    "numeric_columns = np.argwhere(np.isnan(mean_ignoring_nan) == False).squeeze()\n",
    "numeric_columns"
   ]
  },
  {
   "cell_type": "markdown",
   "id": "35598e38-7035-4cd9-b3b5-4b952f81726c",
   "metadata": {},
   "source": [
    "### The dataset is imported again, separating string-type columns from numeric columns"
   ]
  },
  {
   "cell_type": "code",
   "execution_count": 15,
   "id": "54a7bc75-d7d1-40f0-8d69-a9581e5c85c0",
   "metadata": {},
   "outputs": [],
   "source": [
    "## Load the string-type columns\n",
    "arr_strings = np.genfromtxt('data_set/dataset1.csv',\n",
    "                            delimiter = ';',\n",
    "                            skip_header = 1,\n",
    "                            autostrip = True,\n",
    "                            usecols = string_columns,\n",
    "                            dtype = str,\n",
    "                            encoding = 'cp1252')"
   ]
  },
  {
   "cell_type": "code",
   "execution_count": 16,
   "id": "29d17346-bddd-425f-b99c-7b5a27c09bfc",
   "metadata": {},
   "outputs": [
    {
     "data": {
      "text/plain": [
       "array([['May-15', 'Current', '36 months', ..., 'Verified', 'https://www.lendingclub.com/browse/loanDetail.action?loan_id=48010226', 'CA'],\n",
       "       ['', 'Current', '36 months', ..., 'Source Verified', 'https://www.lendingclub.com/browse/loanDetail.action?loan_id=57693261', 'NY'],\n",
       "       ['Sep-15', 'Current', '36 months', ..., 'Verified', 'https://www.lendingclub.com/browse/loanDetail.action?loan_id=59432726', 'PA'],\n",
       "       ...,\n",
       "       ['Jun-15', 'Current', '36 months', ..., 'Source Verified', 'https://www.lendingclub.com/browse/loanDetail.action?loan_id=50415990', 'CA'],\n",
       "       ['Apr-15', 'Current', '36 months', ..., 'Source Verified', 'https://www.lendingclub.com/browse/loanDetail.action?loan_id=46154151', 'OH'],\n",
       "       ['Dec-15', 'Current', '36 months', ..., '', 'https://www.lendingclub.com/browse/loanDetail.action?loan_id=66055249', 'IL']], dtype='<U69')"
      ]
     },
     "execution_count": 16,
     "metadata": {},
     "output_type": "execute_result"
    }
   ],
   "source": [
    "arr_strings"
   ]
  },
  {
   "cell_type": "code",
   "execution_count": 29,
   "id": "653e72b3-3a9a-41a2-a7e7-cbaa2f6fb2eb",
   "metadata": {},
   "outputs": [
    {
     "data": {
      "text/plain": [
       "array([[48010226.  ,    35000.  ,    35000.  ,       13.33,     1184.86,     9452.96],\n",
       "       [57693261.  ,    30000.  ,    30000.  , 68616520.  ,      938.57,     4679.7 ],\n",
       "       [59432726.  ,    15000.  ,    15000.  , 68616520.  ,      494.86,     1969.83],\n",
       "       ...,\n",
       "       [50415990.  ,    10000.  ,    10000.  , 68616520.  , 68616520.  ,     2185.64],\n",
       "       [46154151.  , 68616520.  ,    10000.  ,       16.55,      354.3 ,     3199.4 ],\n",
       "       [66055249.  ,    10000.  ,    10000.  , 68616520.  ,      309.97,      301.9 ]])"
      ]
     },
     "execution_count": 29,
     "metadata": {},
     "output_type": "execute_result"
    }
   ],
   "source": [
    "## Load the numeric columns by filling in missing values\n",
    "arr_numeric = np.genfromtxt(\"data_set/dataset1.csv\",\n",
    "                            delimiter = ';',\n",
    "                            skip_header = 1,\n",
    "                            autostrip = True,\n",
    "                            usecols = numeric_columns,\n",
    "                            filling_values = arbitrary_value,\n",
    "                            encoding = 'cp1252')\n",
    "arr_numeric"
   ]
  },
  {
   "cell_type": "markdown",
   "id": "7ae0c3df-a322-49cd-b8c4-61f0eac5defc",
   "metadata": {},
   "source": [
    "### Extracting column names"
   ]
  },
  {
   "cell_type": "code",
   "execution_count": 35,
   "id": "2422a4f9-56bf-46aa-a5b2-1c938cb6684b",
   "metadata": {},
   "outputs": [
    {
     "data": {
      "text/plain": [
       "array(['id', 'issue_d', 'loan_amnt', 'loan_status', 'funded_amnt', 'term', 'int_rate', 'installment', 'grade', 'sub_grade', 'verification_status', 'url', 'addr_state', 'total_pymnt'], dtype='<U19')"
      ]
     },
     "execution_count": 35,
     "metadata": {},
     "output_type": "execute_result"
    }
   ],
   "source": [
    "## Load column names\n",
    "arr_column_names = np.genfromtxt('data_set/dataset1.csv',\n",
    "                                 delimiter = ';',\n",
    "                                 autostrip = True,\n",
    "                                 skip_footer = data.shape[0],\n",
    "                                 dtype = str,\n",
    "                                 encoding = 'cp1252')\n",
    "arr_column_names"
   ]
  },
  {
   "cell_type": "code",
   "execution_count": 32,
   "id": "7a841ab1-36db-4708-bbe6-fba9ce6527f5",
   "metadata": {},
   "outputs": [],
   "source": [
    "## Separating numeric and string column headers \n",
    "header_strings, header_numeric = arr_column_names[string_columns], arr_column_names[numeric_columns]"
   ]
  },
  {
   "cell_type": "code",
   "execution_count": 33,
   "id": "a1153c28-67e0-4647-a7ee-f5ed1ef80126",
   "metadata": {},
   "outputs": [
    {
     "data": {
      "text/plain": [
       "array(['issue_d', 'loan_status', 'term', 'grade', 'sub_grade', 'verification_status', 'url', 'addr_state'], dtype='<U19')"
      ]
     },
     "execution_count": 33,
     "metadata": {},
     "output_type": "execute_result"
    }
   ],
   "source": [
    "header_strings"
   ]
  },
  {
   "cell_type": "code",
   "execution_count": 36,
   "id": "224bdd23-dc8b-46b0-b005-146f62692fe8",
   "metadata": {},
   "outputs": [
    {
     "data": {
      "text/plain": [
       "array(['id', 'loan_amnt', 'funded_amnt', 'int_rate', 'installment', 'total_pymnt'], dtype='<U19')"
      ]
     },
     "execution_count": 36,
     "metadata": {},
     "output_type": "execute_result"
    }
   ],
   "source": [
    "header_numeric"
   ]
  },
  {
   "cell_type": "markdown",
   "id": "5aa91767-bf7f-4b8f-b51c-62ac400d6aad",
   "metadata": {},
   "source": [
    "## Checkpoint Function\n",
    "\n",
    "- Using a checkpoint function is not mandatory, but it is a good practice. This function will save the current state of my strings array. If I encounter any issues later in the data processing, I can revert to the file generated by this function and recover the information from that point."
   ]
  },
  {
   "cell_type": "code",
   "execution_count": 37,
   "id": "ae202bf9-f0b1-415d-a026-4d533372e3d3",
   "metadata": {},
   "outputs": [],
   "source": [
    "# Function\n",
    "def checkpoint(file_name, checkpoint_header, checkpoint_data):\n",
    "    np.savez(file_name, header = checkpoint_header, data = checkpoint_data)\n",
    "    checkpoint_variable = np.load(file_name + \".npz\")\n",
    "    return(checkpoint_variable)"
   ]
  },
  {
   "cell_type": "code",
   "execution_count": 38,
   "id": "0f027d1e-f08f-4400-a0f0-32d4f6163f34",
   "metadata": {},
   "outputs": [],
   "source": [
    "initial_checkpoint = checkpoint('data_set/initial_checkpoint', header_strings, arr_strings)"
   ]
  },
  {
   "cell_type": "code",
   "execution_count": 39,
   "id": "cb03be13-a90d-4800-9954-05e17a324821",
   "metadata": {},
   "outputs": [
    {
     "data": {
      "text/plain": [
       "array([['May-15', 'Current', '36 months', ..., 'Verified', 'https://www.lendingclub.com/browse/loanDetail.action?loan_id=48010226', 'CA'],\n",
       "       ['', 'Current', '36 months', ..., 'Source Verified', 'https://www.lendingclub.com/browse/loanDetail.action?loan_id=57693261', 'NY'],\n",
       "       ['Sep-15', 'Current', '36 months', ..., 'Verified', 'https://www.lendingclub.com/browse/loanDetail.action?loan_id=59432726', 'PA'],\n",
       "       ...,\n",
       "       ['Jun-15', 'Current', '36 months', ..., 'Source Verified', 'https://www.lendingclub.com/browse/loanDetail.action?loan_id=50415990', 'CA'],\n",
       "       ['Apr-15', 'Current', '36 months', ..., 'Source Verified', 'https://www.lendingclub.com/browse/loanDetail.action?loan_id=46154151', 'OH'],\n",
       "       ['Dec-15', 'Current', '36 months', ..., '', 'https://www.lendingclub.com/browse/loanDetail.action?loan_id=66055249', 'IL']], dtype='<U69')"
      ]
     },
     "execution_count": 39,
     "metadata": {},
     "output_type": "execute_result"
    }
   ],
   "source": [
    "initial_checkpoint['data']"
   ]
  },
  {
   "cell_type": "code",
   "execution_count": 42,
   "id": "e0370055-9ae0-4f78-9172-9249ff10e5a3",
   "metadata": {},
   "outputs": [
    {
     "data": {
      "text/plain": [
       "True"
      ]
     },
     "execution_count": 42,
     "metadata": {},
     "output_type": "execute_result"
    }
   ],
   "source": [
    "## Validation if the new file has the same content as my arr_strings\n",
    "np.array_equal(initial_checkpoint['data'], arr_strings)"
   ]
  },
  {
   "cell_type": "markdown",
   "id": "93c97510-c13b-4757-a73a-d6c1891112f1",
   "metadata": {},
   "source": [
    "## Manipulating the String-Type Columns"
   ]
  },
  {
   "cell_type": "code",
   "execution_count": 43,
   "id": "16d4e9c3-2048-4d29-82fa-bcb68c8f45b2",
   "metadata": {},
   "outputs": [
    {
     "data": {
      "text/plain": [
       "array(['issue_d', 'loan_status', 'term', 'grade', 'sub_grade', 'verification_status', 'url', 'addr_state'], dtype='<U19')"
      ]
     },
     "execution_count": 43,
     "metadata": {},
     "output_type": "execute_result"
    }
   ],
   "source": [
    "header_strings"
   ]
  },
  {
   "cell_type": "code",
   "execution_count": 44,
   "id": "655b768e-b8f4-4e33-ad89-340b8bfcc9f8",
   "metadata": {},
   "outputs": [],
   "source": [
    "## Adjusting the name of the 'issue_d' column to make it easier to identify\n",
    "header_strings[0] = 'issue_date'"
   ]
  },
  {
   "cell_type": "code",
   "execution_count": 45,
   "id": "4390e70e-10a5-41f2-8ff6-a91e8505359b",
   "metadata": {},
   "outputs": [
    {
     "data": {
      "text/plain": [
       "array(['issue_date', 'loan_status', 'term', 'grade', 'sub_grade', 'verification_status', 'url', 'addr_state'], dtype='<U19')"
      ]
     },
     "execution_count": 45,
     "metadata": {},
     "output_type": "execute_result"
    }
   ],
   "source": [
    "header_strings"
   ]
  },
  {
   "cell_type": "code",
   "execution_count": 46,
   "id": "d5e3d02e-e1a6-4607-832d-d8ab72c48933",
   "metadata": {},
   "outputs": [
    {
     "data": {
      "text/plain": [
       "array([['May-15', 'Current', '36 months', ..., 'Verified', 'https://www.lendingclub.com/browse/loanDetail.action?loan_id=48010226', 'CA'],\n",
       "       ['', 'Current', '36 months', ..., 'Source Verified', 'https://www.lendingclub.com/browse/loanDetail.action?loan_id=57693261', 'NY'],\n",
       "       ['Sep-15', 'Current', '36 months', ..., 'Verified', 'https://www.lendingclub.com/browse/loanDetail.action?loan_id=59432726', 'PA'],\n",
       "       ...,\n",
       "       ['Jun-15', 'Current', '36 months', ..., 'Source Verified', 'https://www.lendingclub.com/browse/loanDetail.action?loan_id=50415990', 'CA'],\n",
       "       ['Apr-15', 'Current', '36 months', ..., 'Source Verified', 'https://www.lendingclub.com/browse/loanDetail.action?loan_id=46154151', 'OH'],\n",
       "       ['Dec-15', 'Current', '36 months', ..., '', 'https://www.lendingclub.com/browse/loanDetail.action?loan_id=66055249', 'IL']], dtype='<U69')"
      ]
     },
     "execution_count": 46,
     "metadata": {},
     "output_type": "execute_result"
    }
   ],
   "source": [
    "arr_strings"
   ]
  },
  {
   "cell_type": "markdown",
   "id": "e747f55e-d9dc-4fdc-8cbf-75bf75e69b68",
   "metadata": {},
   "source": [
    "### Pre-Processing issue_date variable using Label Encoding"
   ]
  },
  {
   "cell_type": "code",
   "execution_count": 47,
   "id": "cb3ea45d-6fbd-40f0-a829-d4f5c3b71935",
   "metadata": {},
   "outputs": [
    {
     "data": {
      "text/plain": [
       "array(['', 'Apr-15', 'Aug-15', 'Dec-15', 'Feb-15', 'Jan-15', 'Jul-15', 'Jun-15', 'Mar-15', 'May-15', 'Nov-15', 'Oct-15', 'Sep-15'], dtype='<U69')"
      ]
     },
     "execution_count": 47,
     "metadata": {},
     "output_type": "execute_result"
    }
   ],
   "source": [
    "## Extracting the unique values\n",
    "np.unique(arr_strings[:,0])"
   ]
  },
  {
   "cell_type": "code",
   "execution_count": 48,
   "id": "2892c5e4-8a02-4277-8b9f-5b3d500548e7",
   "metadata": {},
   "outputs": [],
   "source": [
    "## Removing the -15 suffix and converting it to a string array\n",
    "arr_strings[:,0] = np.chararray.strip(arr_strings[:,0], '-15')"
   ]
  },
  {
   "cell_type": "code",
   "execution_count": 49,
   "id": "66a8be33-abe4-479e-b603-1f189b0ad0f7",
   "metadata": {},
   "outputs": [
    {
     "data": {
      "text/plain": [
       "array(['', 'Apr', 'Aug', 'Dec', 'Feb', 'Jan', 'Jul', 'Jun', 'Mar', 'May', 'Nov', 'Oct', 'Sep'], dtype='<U69')"
      ]
     },
     "execution_count": 49,
     "metadata": {},
     "output_type": "execute_result"
    }
   ],
   "source": [
    "## Extracting the unique values\n",
    "np.unique(arr_strings[:,0])"
   ]
  },
  {
   "cell_type": "code",
   "execution_count": 53,
   "id": "1601fa60-da70-4782-bd5c-a54e2ba92271",
   "metadata": {},
   "outputs": [],
   "source": [
    "## Creating an array with months(including as an empty element for those that are blank)\n",
    "months = np.array(['','Jan', 'Feb', 'Mar', 'Apr', 'May', 'Jun', 'Jul', 'Aug','Sep','Oct','Nov','Dec'])"
   ]
  },
  {
   "cell_type": "code",
   "execution_count": 54,
   "id": "9beccd8c-604c-46dc-a4b6-4090da6feb5c",
   "metadata": {},
   "outputs": [],
   "source": [
    "## Loop to convert the name of months to numeric values\n",
    "## It's called Label Encoding\n",
    "for i in range(13):\n",
    "    arr_strings[:,0] = np.where(arr_strings[:,0] == months[i], i, arr_strings[:,0])\n",
    "    "
   ]
  },
  {
   "cell_type": "code",
   "execution_count": 55,
   "id": "5d56e256-0d79-403a-afd4-7837e82d8312",
   "metadata": {},
   "outputs": [
    {
     "data": {
      "text/plain": [
       "array(['0', '1', '10', '11', '12', '2', '3', '4', '5', '6', '7', '8', '9'], dtype='<U69')"
      ]
     },
     "execution_count": 55,
     "metadata": {},
     "output_type": "execute_result"
    }
   ],
   "source": [
    "np.unique(arr_strings[:,0])"
   ]
  },
  {
   "cell_type": "code",
   "execution_count": null,
   "id": "02dd5e93-a492-43e9-ac82-8697d087c51a",
   "metadata": {},
   "outputs": [],
   "source": []
  }
 ],
 "metadata": {
  "kernelspec": {
   "display_name": "Python 3 (ipykernel)",
   "language": "python",
   "name": "python3"
  },
  "language_info": {
   "codemirror_mode": {
    "name": "ipython",
    "version": 3
   },
   "file_extension": ".py",
   "mimetype": "text/x-python",
   "name": "python",
   "nbconvert_exporter": "python",
   "pygments_lexer": "ipython3",
   "version": "3.11.7"
  }
 },
 "nbformat": 4,
 "nbformat_minor": 5
}
