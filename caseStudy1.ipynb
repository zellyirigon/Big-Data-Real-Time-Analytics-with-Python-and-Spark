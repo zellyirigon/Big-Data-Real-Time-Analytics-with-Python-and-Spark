{
 "cells": [
  {
   "cell_type": "markdown",
   "id": "98fda2a4-45cd-4eec-89fe-aae97b932289",
   "metadata": {},
   "source": [
    "# Case Study - 1 \n"
   ]
  },
  {
   "cell_type": "markdown",
   "id": "842300f8-4d06-4bd0-9d05-32871d8bfbac",
   "metadata": {},
   "source": [
    "## Project Introduction: Big Data Real-Time Analytics with Python and Spark \n",
    "\n",
    "This project showcases the practical application of Python and Spark in managing and analysing large-scale data, emphasising the importance of data preparation for successful analytics.\n",
    "\n",
    "\n",
    "Dataset Description\n",
    "1. Lending Club Loans: A dataset of thousands of loans made through the Lending Club platform, highlighting borrower risk and loan conditions.\n",
    "2. Exchange Rates: Historical exchange rates between the US Dollar and the Euro from Yahoo Finance.\n",
    "\n",
    "Objectives\n",
    "* Data Cleaning: Preparing the datasets by handling missing values and inconsistencies.\n",
    "* Real-Time Analytics: Using Python and Spark for real-time data processing and analysis.\n",
    "* Insight Generation: Extracting meaningful insights for decision-making.\n",
    "  \n",
    "This project leverages Big Data technologies for real-time analytics using Python and Spark, guided by the Data Science Academy.\n",
    "\n",
    "References\n",
    "- [Lending Club Dataset](https://www.openintro.org/data/index.php?data=loans_full_schema)\n",
    "- [Yahoo Finance Exchange Rate Data](https://finance.yahoo.com/)"
   ]
  },
  {
   "cell_type": "code",
   "execution_count": 1,
   "id": "57819abe-ad88-41b5-b82b-01da2488c2eb",
   "metadata": {},
   "outputs": [],
   "source": [
    "!pip install -q -U watermark"
   ]
  },
  {
   "cell_type": "code",
   "execution_count": 2,
   "id": "06aeacbd-02a1-4d77-a952-0de5c21d75a5",
   "metadata": {},
   "outputs": [],
   "source": [
    "import numpy as np"
   ]
  },
  {
   "cell_type": "code",
   "execution_count": 3,
   "id": "ef8fbd8f-2f68-4d7f-872f-b5460de63f87",
   "metadata": {},
   "outputs": [],
   "source": [
    "import warnings\n",
    "warnings.filterwarnings('ignore')"
   ]
  },
  {
   "cell_type": "code",
   "execution_count": 4,
   "id": "a5b863b7-bac0-4086-bb26-251622295119",
   "metadata": {},
   "outputs": [
    {
     "name": "stdout",
     "output_type": "stream",
     "text": [
      "Author: Zelly Irigon\n",
      "\n",
      "numpy: 1.26.4\n",
      "\n"
     ]
    }
   ],
   "source": [
    "%reload_ext watermark\n",
    "%watermark -a \"Zelly Irigon\" --iversions"
   ]
  },
  {
   "cell_type": "markdown",
   "id": "594a15e4-0358-4333-98db-54a8d7462d8b",
   "metadata": {},
   "source": [
    "\n",
    "[set_printoptions numpy doc](https://numpy.org/doc/stable/reference/generated/numpy.set_printoptions.html#numpy-set-printoptions)"
   ]
  },
  {
   "cell_type": "code",
   "execution_count": 5,
   "id": "02e8ea20-bcfe-41ec-98f7-fcdf7064b00d",
   "metadata": {},
   "outputs": [],
   "source": [
    "# Numpy print configuration\n",
    "np.set_printoptions(suppress = True, linewidth = 200, precision = 2)"
   ]
  },
  {
   "cell_type": "markdown",
   "id": "fead2a52-2e27-47b8-bdf5-fa7296d75089",
   "metadata": {},
   "source": [
    "## Loading the dataset\n",
    "- https://numpy.org/doc/stable/reference/generated/numpy.genfromtxt.html#numpy.genfromtxt"
   ]
  },
  {
   "cell_type": "code",
   "execution_count": 6,
   "id": "08f284be-52e4-4ad5-827a-2a0190b85840",
   "metadata": {},
   "outputs": [],
   "source": [
    "data = np.genfromtxt(\"data_set/dataset1.csv\",\n",
    "                     delimiter = ';',\n",
    "                     skip_header = 1,\n",
    "                     autostrip = True, #remove spaces\n",
    "                     encoding = 'cp1252')"
   ]
  },
  {
   "cell_type": "code",
   "execution_count": 7,
   "id": "0daa3031-0b77-40f7-8b19-fdb76ba01225",
   "metadata": {},
   "outputs": [
    {
     "data": {
      "text/plain": [
       "numpy.ndarray"
      ]
     },
     "execution_count": 7,
     "metadata": {},
     "output_type": "execute_result"
    }
   ],
   "source": [
    "type(data)"
   ]
  },
  {
   "cell_type": "code",
   "execution_count": 8,
   "id": "821f2dd9-decb-4d77-8220-6db1ad84740c",
   "metadata": {},
   "outputs": [
    {
     "data": {
      "text/plain": [
       "(10000, 14)"
      ]
     },
     "execution_count": 8,
     "metadata": {},
     "output_type": "execute_result"
    }
   ],
   "source": [
    "data.shape"
   ]
  },
  {
   "cell_type": "code",
   "execution_count": 9,
   "id": "b856ce10-f85d-48c0-bf70-738fbaa41f3a",
   "metadata": {},
   "outputs": [
    {
     "data": {
      "text/plain": [
       "array([[48010226.  ,         nan,    35000.  , ...,         nan,         nan,     9452.96],\n",
       "       [57693261.  ,         nan,    30000.  , ...,         nan,         nan,     4679.7 ],\n",
       "       [59432726.  ,         nan,    15000.  , ...,         nan,         nan,     1969.83],\n",
       "       ...,\n",
       "       [50415990.  ,         nan,    10000.  , ...,         nan,         nan,     2185.64],\n",
       "       [46154151.  ,         nan,         nan, ...,         nan,         nan,     3199.4 ],\n",
       "       [66055249.  ,         nan,    10000.  , ...,         nan,         nan,      301.9 ]])"
      ]
     },
     "execution_count": 9,
     "metadata": {},
     "output_type": "execute_result"
    }
   ],
   "source": [
    "data.view()"
   ]
  },
  {
   "cell_type": "markdown",
   "id": "95a67f7e-27e4-40c7-b6e5-27d0de9bd293",
   "metadata": {},
   "source": [
    "Notice how several columns above are of the nan type. This is due to special characters in the dataset and the way Numpy loads numeric and string data. Next, we will address this."
   ]
  },
  {
   "cell_type": "markdown",
   "id": "2496e8fa-90d0-4246-8518-1ad1cde5483f",
   "metadata": {},
   "source": [
    "### Checking for missing values"
   ]
  },
  {
   "cell_type": "code",
   "execution_count": 10,
   "id": "78474fda-1440-45ab-82af-59c14dce0e16",
   "metadata": {},
   "outputs": [
    {
     "data": {
      "text/plain": [
       "88005"
      ]
     },
     "execution_count": 10,
     "metadata": {},
     "output_type": "execute_result"
    }
   ],
   "source": [
    "np.isnan(data).sum()"
   ]
  },
  {
   "cell_type": "code",
   "execution_count": 11,
   "id": "9ff97176-61e9-4e0d-9f50-58b1487d023c",
   "metadata": {},
   "outputs": [
    {
     "data": {
      "text/plain": [
       "68616520.0"
      ]
     },
     "execution_count": 11,
     "metadata": {},
     "output_type": "execute_result"
    }
   ],
   "source": [
    "# Returns the highest value + 1 ignoring nan values.\n",
    "# This arbitrary value will be used to fill missing values at the time of loading numeric variable data. \n",
    "# At a later stage, this value will be treated as a missing value.\n",
    "arbitrary_value = np.nanmax(data) +1\n",
    "arbitrary_value"
   ]
  },
  {
   "cell_type": "code",
   "execution_count": 12,
   "id": "dadc6e04-fcc5-4a19-b16f-58f9a4a5dedb",
   "metadata": {},
   "outputs": [
    {
     "data": {
      "text/plain": [
       "array([54015809.19,         nan,    15273.46,         nan,    15311.04,         nan,       16.62,      440.92,         nan,         nan,         nan,         nan,         nan,     3143.85])"
      ]
     },
     "execution_count": 12,
     "metadata": {},
     "output_type": "execute_result"
    }
   ],
   "source": [
    "# Calculating the mean (numeric variables) ignoring nan values per column. I will use this to separate numeric variables from string-type variables.\n",
    "mean_ignoring_nan = np.nanmean(data, axis = 0)\n",
    "mean_ignoring_nan"
   ]
  },
  {
   "cell_type": "code",
   "execution_count": 13,
   "id": "51fa4d84-832a-4a57-ac78-02125d670bed",
   "metadata": {},
   "outputs": [
    {
     "data": {
      "text/plain": [
       "array([ 1,  3,  5,  8,  9, 10, 11, 12], dtype=int64)"
      ]
     },
     "execution_count": 13,
     "metadata": {},
     "output_type": "execute_result"
    }
   ],
   "source": [
    "# String-type columns with missing values\n",
    "string_columns = np.argwhere(np.isnan(mean_ignoring_nan)).squeeze()\n",
    "string_columns"
   ]
  },
  {
   "cell_type": "code",
   "execution_count": 14,
   "id": "7e9bd397-5a22-42f8-88c8-5b2e17f5f2e3",
   "metadata": {},
   "outputs": [
    {
     "data": {
      "text/plain": [
       "array([ 0,  2,  4,  6,  7, 13], dtype=int64)"
      ]
     },
     "execution_count": 14,
     "metadata": {},
     "output_type": "execute_result"
    }
   ],
   "source": [
    "# Numeric Columns\n",
    "numeric_columns = np.argwhere(np.isnan(mean_ignoring_nan) == False).squeeze()\n",
    "numeric_columns"
   ]
  },
  {
   "cell_type": "markdown",
   "id": "35598e38-7035-4cd9-b3b5-4b952f81726c",
   "metadata": {},
   "source": [
    "### The dataset is imported again, separating string-type columns from numeric columns"
   ]
  },
  {
   "cell_type": "code",
   "execution_count": 15,
   "id": "54a7bc75-d7d1-40f0-8d69-a9581e5c85c0",
   "metadata": {},
   "outputs": [],
   "source": [
    "## Load the string-type columns\n",
    "arr_strings = np.genfromtxt('data_set/dataset1.csv',\n",
    "                            delimiter = ';',\n",
    "                            skip_header = 1,\n",
    "                            autostrip = True,\n",
    "                            usecols = string_columns,\n",
    "                            dtype = str,\n",
    "                            encoding = 'cp1252')"
   ]
  },
  {
   "cell_type": "code",
   "execution_count": 16,
   "id": "29d17346-bddd-425f-b99c-7b5a27c09bfc",
   "metadata": {},
   "outputs": [
    {
     "data": {
      "text/plain": [
       "array([['May-15', 'Current', '36 months', ..., 'Verified', 'https://www.lendingclub.com/browse/loanDetail.action?loan_id=48010226', 'CA'],\n",
       "       ['', 'Current', '36 months', ..., 'Source Verified', 'https://www.lendingclub.com/browse/loanDetail.action?loan_id=57693261', 'NY'],\n",
       "       ['Sep-15', 'Current', '36 months', ..., 'Verified', 'https://www.lendingclub.com/browse/loanDetail.action?loan_id=59432726', 'PA'],\n",
       "       ...,\n",
       "       ['Jun-15', 'Current', '36 months', ..., 'Source Verified', 'https://www.lendingclub.com/browse/loanDetail.action?loan_id=50415990', 'CA'],\n",
       "       ['Apr-15', 'Current', '36 months', ..., 'Source Verified', 'https://www.lendingclub.com/browse/loanDetail.action?loan_id=46154151', 'OH'],\n",
       "       ['Dec-15', 'Current', '36 months', ..., '', 'https://www.lendingclub.com/browse/loanDetail.action?loan_id=66055249', 'IL']], dtype='<U69')"
      ]
     },
     "execution_count": 16,
     "metadata": {},
     "output_type": "execute_result"
    }
   ],
   "source": [
    "arr_strings"
   ]
  },
  {
   "cell_type": "code",
   "execution_count": 17,
   "id": "653e72b3-3a9a-41a2-a7e7-cbaa2f6fb2eb",
   "metadata": {},
   "outputs": [
    {
     "data": {
      "text/plain": [
       "array([[48010226.  ,    35000.  ,    35000.  ,       13.33,     1184.86,     9452.96],\n",
       "       [57693261.  ,    30000.  ,    30000.  , 68616520.  ,      938.57,     4679.7 ],\n",
       "       [59432726.  ,    15000.  ,    15000.  , 68616520.  ,      494.86,     1969.83],\n",
       "       ...,\n",
       "       [50415990.  ,    10000.  ,    10000.  , 68616520.  , 68616520.  ,     2185.64],\n",
       "       [46154151.  , 68616520.  ,    10000.  ,       16.55,      354.3 ,     3199.4 ],\n",
       "       [66055249.  ,    10000.  ,    10000.  , 68616520.  ,      309.97,      301.9 ]])"
      ]
     },
     "execution_count": 17,
     "metadata": {},
     "output_type": "execute_result"
    }
   ],
   "source": [
    "## Load the numeric columns by filling in missing values\n",
    "arr_numeric = np.genfromtxt(\"data_set/dataset1.csv\",\n",
    "                            delimiter = ';',\n",
    "                            skip_header = 1,\n",
    "                            autostrip = True,\n",
    "                            usecols = numeric_columns,\n",
    "                            filling_values = arbitrary_value,\n",
    "                            encoding = 'cp1252')\n",
    "arr_numeric"
   ]
  },
  {
   "cell_type": "markdown",
   "id": "7ae0c3df-a322-49cd-b8c4-61f0eac5defc",
   "metadata": {},
   "source": [
    "### Extracting column names"
   ]
  },
  {
   "cell_type": "code",
   "execution_count": 18,
   "id": "2422a4f9-56bf-46aa-a5b2-1c938cb6684b",
   "metadata": {},
   "outputs": [
    {
     "data": {
      "text/plain": [
       "array(['id', 'issue_d', 'loan_amnt', 'loan_status', 'funded_amnt', 'term', 'int_rate', 'installment', 'grade', 'sub_grade', 'verification_status', 'url', 'addr_state', 'total_pymnt'], dtype='<U19')"
      ]
     },
     "execution_count": 18,
     "metadata": {},
     "output_type": "execute_result"
    }
   ],
   "source": [
    "## Load column names\n",
    "arr_column_names = np.genfromtxt('data_set/dataset1.csv',\n",
    "                                 delimiter = ';',\n",
    "                                 autostrip = True,\n",
    "                                 skip_footer = data.shape[0],\n",
    "                                 dtype = str,\n",
    "                                 encoding = 'cp1252')\n",
    "arr_column_names"
   ]
  },
  {
   "cell_type": "code",
   "execution_count": 19,
   "id": "7a841ab1-36db-4708-bbe6-fba9ce6527f5",
   "metadata": {},
   "outputs": [],
   "source": [
    "## Separating numeric and string column headers \n",
    "header_strings, header_numeric = arr_column_names[string_columns], arr_column_names[numeric_columns]"
   ]
  },
  {
   "cell_type": "code",
   "execution_count": 20,
   "id": "a1153c28-67e0-4647-a7ee-f5ed1ef80126",
   "metadata": {},
   "outputs": [
    {
     "data": {
      "text/plain": [
       "array(['issue_d', 'loan_status', 'term', 'grade', 'sub_grade', 'verification_status', 'url', 'addr_state'], dtype='<U19')"
      ]
     },
     "execution_count": 20,
     "metadata": {},
     "output_type": "execute_result"
    }
   ],
   "source": [
    "header_strings"
   ]
  },
  {
   "cell_type": "code",
   "execution_count": 21,
   "id": "224bdd23-dc8b-46b0-b005-146f62692fe8",
   "metadata": {},
   "outputs": [
    {
     "data": {
      "text/plain": [
       "array(['id', 'loan_amnt', 'funded_amnt', 'int_rate', 'installment', 'total_pymnt'], dtype='<U19')"
      ]
     },
     "execution_count": 21,
     "metadata": {},
     "output_type": "execute_result"
    }
   ],
   "source": [
    "header_numeric"
   ]
  },
  {
   "cell_type": "markdown",
   "id": "5aa91767-bf7f-4b8f-b51c-62ac400d6aad",
   "metadata": {},
   "source": [
    "## Checkpoint Function\n",
    "\n",
    "- Using a checkpoint function is not mandatory, but it is a good practice. This function will save the current state of my strings array. If I encounter any issues later in the data processing, I can revert to the file generated by this function and recover the information from that point."
   ]
  },
  {
   "cell_type": "code",
   "execution_count": 22,
   "id": "ae202bf9-f0b1-415d-a026-4d533372e3d3",
   "metadata": {},
   "outputs": [],
   "source": [
    "# Function\n",
    "def checkpoint(file_name, checkpoint_header, checkpoint_data):\n",
    "    np.savez(file_name, header = checkpoint_header, data = checkpoint_data)\n",
    "    checkpoint_variable = np.load(file_name + \".npz\")\n",
    "    return(checkpoint_variable)"
   ]
  },
  {
   "cell_type": "code",
   "execution_count": 23,
   "id": "0f027d1e-f08f-4400-a0f0-32d4f6163f34",
   "metadata": {},
   "outputs": [],
   "source": [
    "initial_checkpoint = checkpoint('data_set/initial_checkpoint', header_strings, arr_strings)"
   ]
  },
  {
   "cell_type": "code",
   "execution_count": 24,
   "id": "cb03be13-a90d-4800-9954-05e17a324821",
   "metadata": {},
   "outputs": [
    {
     "data": {
      "text/plain": [
       "array([['May-15', 'Current', '36 months', ..., 'Verified', 'https://www.lendingclub.com/browse/loanDetail.action?loan_id=48010226', 'CA'],\n",
       "       ['', 'Current', '36 months', ..., 'Source Verified', 'https://www.lendingclub.com/browse/loanDetail.action?loan_id=57693261', 'NY'],\n",
       "       ['Sep-15', 'Current', '36 months', ..., 'Verified', 'https://www.lendingclub.com/browse/loanDetail.action?loan_id=59432726', 'PA'],\n",
       "       ...,\n",
       "       ['Jun-15', 'Current', '36 months', ..., 'Source Verified', 'https://www.lendingclub.com/browse/loanDetail.action?loan_id=50415990', 'CA'],\n",
       "       ['Apr-15', 'Current', '36 months', ..., 'Source Verified', 'https://www.lendingclub.com/browse/loanDetail.action?loan_id=46154151', 'OH'],\n",
       "       ['Dec-15', 'Current', '36 months', ..., '', 'https://www.lendingclub.com/browse/loanDetail.action?loan_id=66055249', 'IL']], dtype='<U69')"
      ]
     },
     "execution_count": 24,
     "metadata": {},
     "output_type": "execute_result"
    }
   ],
   "source": [
    "initial_checkpoint['data']"
   ]
  },
  {
   "cell_type": "code",
   "execution_count": 25,
   "id": "e0370055-9ae0-4f78-9172-9249ff10e5a3",
   "metadata": {},
   "outputs": [
    {
     "data": {
      "text/plain": [
       "True"
      ]
     },
     "execution_count": 25,
     "metadata": {},
     "output_type": "execute_result"
    }
   ],
   "source": [
    "## Validation if the new file has the same content as my arr_strings\n",
    "np.array_equal(initial_checkpoint['data'], arr_strings)"
   ]
  },
  {
   "cell_type": "markdown",
   "id": "93c97510-c13b-4757-a73a-d6c1891112f1",
   "metadata": {},
   "source": [
    "## Manipulating the String-Type Columns"
   ]
  },
  {
   "cell_type": "code",
   "execution_count": 26,
   "id": "16d4e9c3-2048-4d29-82fa-bcb68c8f45b2",
   "metadata": {},
   "outputs": [
    {
     "data": {
      "text/plain": [
       "array(['issue_d', 'loan_status', 'term', 'grade', 'sub_grade', 'verification_status', 'url', 'addr_state'], dtype='<U19')"
      ]
     },
     "execution_count": 26,
     "metadata": {},
     "output_type": "execute_result"
    }
   ],
   "source": [
    "header_strings"
   ]
  },
  {
   "cell_type": "code",
   "execution_count": 27,
   "id": "655b768e-b8f4-4e33-ad89-340b8bfcc9f8",
   "metadata": {},
   "outputs": [],
   "source": [
    "## Adjusting the name of the 'issue_d' column to make it easier to identify\n",
    "header_strings[0] = 'issue_date'"
   ]
  },
  {
   "cell_type": "code",
   "execution_count": 28,
   "id": "4390e70e-10a5-41f2-8ff6-a91e8505359b",
   "metadata": {},
   "outputs": [
    {
     "data": {
      "text/plain": [
       "array(['issue_date', 'loan_status', 'term', 'grade', 'sub_grade', 'verification_status', 'url', 'addr_state'], dtype='<U19')"
      ]
     },
     "execution_count": 28,
     "metadata": {},
     "output_type": "execute_result"
    }
   ],
   "source": [
    "header_strings"
   ]
  },
  {
   "cell_type": "code",
   "execution_count": 29,
   "id": "d5e3d02e-e1a6-4607-832d-d8ab72c48933",
   "metadata": {},
   "outputs": [
    {
     "data": {
      "text/plain": [
       "array([['May-15', 'Current', '36 months', ..., 'Verified', 'https://www.lendingclub.com/browse/loanDetail.action?loan_id=48010226', 'CA'],\n",
       "       ['', 'Current', '36 months', ..., 'Source Verified', 'https://www.lendingclub.com/browse/loanDetail.action?loan_id=57693261', 'NY'],\n",
       "       ['Sep-15', 'Current', '36 months', ..., 'Verified', 'https://www.lendingclub.com/browse/loanDetail.action?loan_id=59432726', 'PA'],\n",
       "       ...,\n",
       "       ['Jun-15', 'Current', '36 months', ..., 'Source Verified', 'https://www.lendingclub.com/browse/loanDetail.action?loan_id=50415990', 'CA'],\n",
       "       ['Apr-15', 'Current', '36 months', ..., 'Source Verified', 'https://www.lendingclub.com/browse/loanDetail.action?loan_id=46154151', 'OH'],\n",
       "       ['Dec-15', 'Current', '36 months', ..., '', 'https://www.lendingclub.com/browse/loanDetail.action?loan_id=66055249', 'IL']], dtype='<U69')"
      ]
     },
     "execution_count": 29,
     "metadata": {},
     "output_type": "execute_result"
    }
   ],
   "source": [
    "arr_strings"
   ]
  },
  {
   "cell_type": "markdown",
   "id": "e747f55e-d9dc-4fdc-8cbf-75bf75e69b68",
   "metadata": {},
   "source": [
    "### Preprocessing issue_date variable using Label Encoding"
   ]
  },
  {
   "cell_type": "code",
   "execution_count": 30,
   "id": "cb3ea45d-6fbd-40f0-a829-d4f5c3b71935",
   "metadata": {},
   "outputs": [
    {
     "data": {
      "text/plain": [
       "array(['', 'Apr-15', 'Aug-15', 'Dec-15', 'Feb-15', 'Jan-15', 'Jul-15', 'Jun-15', 'Mar-15', 'May-15', 'Nov-15', 'Oct-15', 'Sep-15'], dtype='<U69')"
      ]
     },
     "execution_count": 30,
     "metadata": {},
     "output_type": "execute_result"
    }
   ],
   "source": [
    "## Extracting the unique values\n",
    "np.unique(arr_strings[:,0])"
   ]
  },
  {
   "cell_type": "code",
   "execution_count": 31,
   "id": "2892c5e4-8a02-4277-8b9f-5b3d500548e7",
   "metadata": {},
   "outputs": [],
   "source": [
    "## Removing the -15 suffix and converting it to a string array\n",
    "arr_strings[:,0] = np.chararray.strip(arr_strings[:,0], '-15')"
   ]
  },
  {
   "cell_type": "code",
   "execution_count": 32,
   "id": "66a8be33-abe4-479e-b603-1f189b0ad0f7",
   "metadata": {},
   "outputs": [
    {
     "data": {
      "text/plain": [
       "array(['', 'Apr', 'Aug', 'Dec', 'Feb', 'Jan', 'Jul', 'Jun', 'Mar', 'May', 'Nov', 'Oct', 'Sep'], dtype='<U69')"
      ]
     },
     "execution_count": 32,
     "metadata": {},
     "output_type": "execute_result"
    }
   ],
   "source": [
    "## Extracting the unique values\n",
    "np.unique(arr_strings[:,0])"
   ]
  },
  {
   "cell_type": "code",
   "execution_count": 33,
   "id": "1601fa60-da70-4782-bd5c-a54e2ba92271",
   "metadata": {},
   "outputs": [],
   "source": [
    "## Creating an array with months(including as an empty element for those that are blank)\n",
    "months = np.array(['','Jan', 'Feb', 'Mar', 'Apr', 'May', 'Jun', 'Jul', 'Aug','Sep','Oct','Nov','Dec'])"
   ]
  },
  {
   "cell_type": "code",
   "execution_count": 34,
   "id": "9beccd8c-604c-46dc-a4b6-4090da6feb5c",
   "metadata": {},
   "outputs": [],
   "source": [
    "## Loop to convert the name of months to numeric values\n",
    "## It's called Label Encoding\n",
    "for i in range(13):\n",
    "    arr_strings[:,0] = np.where(arr_strings[:,0] == months[i], i, arr_strings[:,0])\n",
    "    "
   ]
  },
  {
   "cell_type": "code",
   "execution_count": 35,
   "id": "5d56e256-0d79-403a-afd4-7837e82d8312",
   "metadata": {},
   "outputs": [
    {
     "data": {
      "text/plain": [
       "array(['0', '1', '10', '11', '12', '2', '3', '4', '5', '6', '7', '8', '9'], dtype='<U69')"
      ]
     },
     "execution_count": 35,
     "metadata": {},
     "output_type": "execute_result"
    }
   ],
   "source": [
    "np.unique(arr_strings[:,0])"
   ]
  },
  {
   "cell_type": "markdown",
   "id": "3980a20e-5d61-4dd4-a7b4-42d1ddc2c66d",
   "metadata": {},
   "source": [
    "### Preprocessing loan_status variable using Binarization"
   ]
  },
  {
   "cell_type": "code",
   "execution_count": 36,
   "id": "1a15a11b-16e1-4079-8a17-a8281d87787a",
   "metadata": {},
   "outputs": [
    {
     "data": {
      "text/plain": [
       "array(['issue_date', 'loan_status', 'term', 'grade', 'sub_grade', 'verification_status', 'url', 'addr_state'], dtype='<U19')"
      ]
     },
     "execution_count": 36,
     "metadata": {},
     "output_type": "execute_result"
    }
   ],
   "source": [
    "header_strings"
   ]
  },
  {
   "cell_type": "code",
   "execution_count": 37,
   "id": "4e1605fe-4256-4f30-9234-91220ef76f3f",
   "metadata": {},
   "outputs": [
    {
     "data": {
      "text/plain": [
       "array(['', 'Charged Off', 'Current', 'Default', 'Fully Paid', 'In Grace Period', 'Issued', 'Late (16-30 days)', 'Late (31-120 days)'], dtype='<U69')"
      ]
     },
     "execution_count": 37,
     "metadata": {},
     "output_type": "execute_result"
    }
   ],
   "source": [
    "#Extracting the unique values from the variable\n",
    "np.unique(arr_strings[:,1])"
   ]
  },
  {
   "cell_type": "code",
   "execution_count": 38,
   "id": "10945590-47e0-440e-aac2-4093c0089ff2",
   "metadata": {},
   "outputs": [
    {
     "data": {
      "text/plain": [
       "9"
      ]
     },
     "execution_count": 38,
     "metadata": {},
     "output_type": "execute_result"
    }
   ],
   "source": [
    "# Number of elements\n",
    "np.unique(arr_strings[:,1]).size"
   ]
  },
  {
   "cell_type": "code",
   "execution_count": 39,
   "id": "29c779db-aea6-4da3-a49f-08773924a842",
   "metadata": {},
   "outputs": [],
   "source": [
    "# Creating an array with only 3 status\n",
    "status_bad = np.array(['','Charged Off', 'Default', 'Late (31-120 days'])"
   ]
  },
  {
   "cell_type": "code",
   "execution_count": 40,
   "id": "fa6c668a-0112-4b18-9c1d-70464214f4f2",
   "metadata": {},
   "outputs": [],
   "source": [
    "# Checking the variable values and comparing with the previous array, converting the variable to binary values\n",
    "# It is called Binarization\n",
    "arr_strings[:,1] = np.where(np.isin(arr_strings[:,1], status_bad),0,1)"
   ]
  },
  {
   "cell_type": "code",
   "execution_count": 41,
   "id": "00371271-5a2f-44a9-978b-6754b9d6190a",
   "metadata": {},
   "outputs": [
    {
     "data": {
      "text/plain": [
       "array(['0', '1'], dtype='<U69')"
      ]
     },
     "execution_count": 41,
     "metadata": {},
     "output_type": "execute_result"
    }
   ],
   "source": [
    "# Extracting the unique values from the variable\n",
    "np.unique(arr_strings[:,1])"
   ]
  },
  {
   "cell_type": "markdown",
   "id": "73150a15-4f4f-4712-a7f2-5ec758fa3edc",
   "metadata": {},
   "source": [
    "### Preprocessing 'term' variable using string cleanning"
   ]
  },
  {
   "cell_type": "code",
   "execution_count": 43,
   "id": "8256bbe3-7019-441d-8617-e88ca36d49a1",
   "metadata": {},
   "outputs": [
    {
     "data": {
      "text/plain": [
       "array(['issue_date', 'loan_status', 'term', 'grade', 'sub_grade', 'verification_status', 'url', 'addr_state'], dtype='<U19')"
      ]
     },
     "execution_count": 43,
     "metadata": {},
     "output_type": "execute_result"
    }
   ],
   "source": [
    "header_strings"
   ]
  },
  {
   "cell_type": "code",
   "execution_count": 45,
   "id": "1c166459-74d0-4a3c-80d9-815eff6c9e32",
   "metadata": {},
   "outputs": [
    {
     "data": {
      "text/plain": [
       "array(['', '36 months', '60 months'], dtype='<U69')"
      ]
     },
     "execution_count": 45,
     "metadata": {},
     "output_type": "execute_result"
    }
   ],
   "source": [
    "#Extracting the unique values\n",
    "np.unique(arr_strings[:,2])"
   ]
  },
  {
   "cell_type": "code",
   "execution_count": 46,
   "id": "34b6717b-5135-48a3-9388-85e07547eee7",
   "metadata": {},
   "outputs": [
    {
     "data": {
      "text/plain": [
       "array(['36', '36', '36', ..., '36', '36', '36'], dtype='<U69')"
      ]
     },
     "execution_count": 46,
     "metadata": {},
     "output_type": "execute_result"
    }
   ],
   "source": [
    "# Removing word 'months'(******notice the space before the word)\n",
    "arr_strings[:,2] = np.chararray.strip(arr_strings[:,2], ' months')\n",
    "arr_strings[:,2]"
   ]
  },
  {
   "cell_type": "code",
   "execution_count": 48,
   "id": "f3c8ca57-91ab-4fd8-a6af-efbd1567aab6",
   "metadata": {},
   "outputs": [],
   "source": [
    "# Changing the name of variable\n",
    "header_strings[2] = 'term_months'"
   ]
  },
  {
   "cell_type": "code",
   "execution_count": 49,
   "id": "86d8f401-16d9-4018-8465-e132fba6f8a4",
   "metadata": {},
   "outputs": [],
   "source": [
    "# Replacing the missing values with the greater value, in this case, 60\n",
    "arr_strings[:,2] = np.where(arr_strings[:,2] == '', '60', arr_strings[:,2])\n",
    "                            "
   ]
  },
  {
   "cell_type": "code",
   "execution_count": 50,
   "id": "faa96950-b4fb-48bb-8b89-7a4ebc4295de",
   "metadata": {},
   "outputs": [
    {
     "data": {
      "text/plain": [
       "array(['36', '36', '36', ..., '36', '36', '36'], dtype='<U69')"
      ]
     },
     "execution_count": 50,
     "metadata": {},
     "output_type": "execute_result"
    }
   ],
   "source": [
    "arr_strings[:,2]"
   ]
  },
  {
   "cell_type": "code",
   "execution_count": 51,
   "id": "98660b56-8921-42b5-90ee-bdbd74308192",
   "metadata": {},
   "outputs": [
    {
     "data": {
      "text/plain": [
       "array(['36', '60'], dtype='<U69')"
      ]
     },
     "execution_count": 51,
     "metadata": {},
     "output_type": "execute_result"
    }
   ],
   "source": [
    "# Extracting the unique values\n",
    "np.unique(arr_strings[:,2])"
   ]
  },
  {
   "cell_type": "markdown",
   "id": "cc81b912-acd3-47bc-8381-f1160dd24969",
   "metadata": {},
   "source": [
    "### Preprocessing 'grade' and 'sub_grade' variables with dictionary (Label Encoding Type)"
   ]
  },
  {
   "cell_type": "code",
   "execution_count": 53,
   "id": "1bbb8f5b-df5a-4882-b54f-b3fa351cc90a",
   "metadata": {},
   "outputs": [
    {
     "data": {
      "text/plain": [
       "array(['issue_date', 'loan_status', 'term_months', 'grade', 'sub_grade', 'verification_status', 'url', 'addr_state'], dtype='<U19')"
      ]
     },
     "execution_count": 53,
     "metadata": {},
     "output_type": "execute_result"
    }
   ],
   "source": [
    "header_strings"
   ]
  },
  {
   "cell_type": "code",
   "execution_count": 56,
   "id": "7e76e983-81ac-4d7d-930a-f223b32a53a5",
   "metadata": {},
   "outputs": [
    {
     "data": {
      "text/plain": [
       "array(['', 'A', 'B', 'C', 'D', 'E', 'F', 'G'], dtype='<U69')"
      ]
     },
     "execution_count": 56,
     "metadata": {},
     "output_type": "execute_result"
    }
   ],
   "source": [
    "# Extracting the unique values to 'grade' variable\n",
    "np.unique(arr_strings[:,3])"
   ]
  },
  {
   "cell_type": "code",
   "execution_count": 57,
   "id": "3a470b65-9c6e-4f36-a764-aa178c4505dd",
   "metadata": {},
   "outputs": [
    {
     "data": {
      "text/plain": [
       "array(['', 'A1', 'A2', 'A3', 'A4', 'A5', 'B1', 'B2', 'B3', 'B4', 'B5', 'C1', 'C2', 'C3', 'C4', 'C5', 'D1', 'D2', 'D3', 'D4', 'D5', 'E1', 'E2', 'E3', 'E4', 'E5', 'F1', 'F2', 'F3', 'F4', 'F5', 'G1',\n",
       "       'G2', 'G3', 'G4', 'G5'], dtype='<U69')"
      ]
     },
     "execution_count": 57,
     "metadata": {},
     "output_type": "execute_result"
    }
   ],
   "source": [
    "# Extracting the unique values to 'sub_grade' variable\n",
    "np.unique(arr_strings[:,4])"
   ]
  },
  {
   "cell_type": "markdown",
   "id": "fabd061e-25c1-4de3-8f87-916b527fb3c0",
   "metadata": {},
   "source": [
    "Adjusting the 'sub_grade' variable"
   ]
  },
  {
   "cell_type": "code",
   "execution_count": 58,
   "id": "7e09ad07-4020-4e1e-8eb4-add6d8cfbec7",
   "metadata": {},
   "outputs": [
    {
     "data": {
      "text/plain": [
       "array(['', 'A', 'B', 'C', 'D', 'E', 'F', 'G'], dtype='<U69')"
      ]
     },
     "execution_count": 58,
     "metadata": {},
     "output_type": "execute_result"
    }
   ],
   "source": [
    "np.unique(arr_strings[:,3])"
   ]
  },
  {
   "cell_type": "code",
   "execution_count": 60,
   "id": "804147c5-69de-4515-85a0-e692e667b4b9",
   "metadata": {},
   "outputs": [
    {
     "data": {
      "text/plain": [
       "array(['A', 'B', 'C', 'D', 'E', 'F', 'G'], dtype='<U69')"
      ]
     },
     "execution_count": 60,
     "metadata": {},
     "output_type": "execute_result"
    }
   ],
   "source": [
    "# Showing the unique values without the missing values \n",
    "np.unique(arr_strings[:,3])[1:]"
   ]
  },
  {
   "cell_type": "code",
   "execution_count": 62,
   "id": "411e09d4-9edc-44e0-88ce-ef992f914131",
   "metadata": {},
   "outputs": [],
   "source": [
    "# Loop to adjust the variable\n",
    "for i in np.unique(arr_strings[:,3])[1:]:\n",
    "    arr_strings[:,4] = np.where((arr_strings[:,4] == '') & (arr_strings[:,3] == i), i + '5', arr_strings[:,4])"
   ]
  },
  {
   "cell_type": "code",
   "execution_count": 63,
   "id": "b83c4ebb-ec6e-484c-9f31-8ef93234d9dc",
   "metadata": {},
   "outputs": [
    {
     "data": {
      "text/plain": [
       "(array(['', 'A1', 'A2', 'A3', 'A4', 'A5', 'B1', 'B2', 'B3', 'B4', 'B5', 'C1', 'C2', 'C3', 'C4', 'C5', 'D1', 'D2', 'D3', 'D4', 'D5', 'E1', 'E2', 'E3', 'E4', 'E5', 'F1', 'F2', 'F3', 'F4', 'F5', 'G1',\n",
       "        'G2', 'G3', 'G4', 'G5'], dtype='<U69'),\n",
       " array([  9, 285, 278, 239, 323, 592, 509, 517, 530, 553, 633, 629, 567, 586, 564, 577, 391, 267, 250, 255, 288, 235, 162, 171, 139, 160,  94,  52,  34,  43,  24,  19,  10,   3,   7,   5], dtype=int64))"
      ]
     },
     "execution_count": 63,
     "metadata": {},
     "output_type": "execute_result"
    }
   ],
   "source": [
    "# Returns categories and their respective counts\n",
    "np.unique(arr_strings[:,4], return_counts = True)"
   ]
  },
  {
   "cell_type": "code",
   "execution_count": 64,
   "id": "22682dc7-dc91-4d2e-9c92-029d5608e1df",
   "metadata": {},
   "outputs": [],
   "source": [
    "# Replacing missing values by the new category\n",
    "arr_strings[:,4] = np.where(arr_strings[:,4] == '', 'H1', arr_strings[:,4])"
   ]
  },
  {
   "cell_type": "code",
   "execution_count": 65,
   "id": "127714b3-69a3-4083-a502-1bdfe7c92fa9",
   "metadata": {},
   "outputs": [
    {
     "data": {
      "text/plain": [
       "array(['A1', 'A2', 'A3', 'A4', 'A5', 'B1', 'B2', 'B3', 'B4', 'B5', 'C1', 'C2', 'C3', 'C4', 'C5', 'D1', 'D2', 'D3', 'D4', 'D5', 'E1', 'E2', 'E3', 'E4', 'E5', 'F1', 'F2', 'F3', 'F4', 'F5', 'G1', 'G2',\n",
       "       'G3', 'G4', 'G5', 'H1'], dtype='<U69')"
      ]
     },
     "execution_count": 65,
     "metadata": {},
     "output_type": "execute_result"
    }
   ],
   "source": [
    "# Extracting the unique values\n",
    "np.unique(arr_strings[:,4])"
   ]
  },
  {
   "cell_type": "markdown",
   "id": "8285143d-1068-4b1d-b519-f3b1ff599066",
   "metadata": {},
   "source": [
    "Removing the 'grade' variable"
   ]
  },
  {
   "cell_type": "code",
   "execution_count": 67,
   "id": "8482b1e1-3da4-4217-9557-7b76e8d17b9a",
   "metadata": {},
   "outputs": [],
   "source": [
    "arr_strings = np.delete(arr_strings, 3, axis = 1)"
   ]
  },
  {
   "cell_type": "code",
   "execution_count": 68,
   "id": "8d20bc40-03f9-44b1-9198-7d8a07e7fefb",
   "metadata": {},
   "outputs": [
    {
     "data": {
      "text/plain": [
       "array(['C3', 'A5', 'B5', ..., 'A5', 'D2', 'A4'], dtype='<U69')"
      ]
     },
     "execution_count": 68,
     "metadata": {},
     "output_type": "execute_result"
    }
   ],
   "source": [
    "# New variable in index column 3\n",
    "arr_strings[:,3]"
   ]
  },
  {
   "cell_type": "code",
   "execution_count": 69,
   "id": "f1af9b13-1192-487d-aed0-efa087074b71",
   "metadata": {},
   "outputs": [],
   "source": [
    "# Removing the 'grade' column from the array header\n",
    "header_strings = np.delete(header_strings, 3)"
   ]
  },
  {
   "cell_type": "code",
   "execution_count": 70,
   "id": "89ade22e-a1b2-442d-bf63-2644f8332f2b",
   "metadata": {},
   "outputs": [
    {
     "data": {
      "text/plain": [
       "'sub_grade'"
      ]
     },
     "execution_count": 70,
     "metadata": {},
     "output_type": "execute_result"
    }
   ],
   "source": [
    "# New variable in index column 3\n",
    "header_strings[3]"
   ]
  },
  {
   "cell_type": "markdown",
   "id": "4312c124-61ea-4d06-b717-70f1311f4411",
   "metadata": {},
   "source": [
    "Finally, the 'sub_grade' variable is converted to its numeric representation"
   ]
  },
  {
   "cell_type": "code",
   "execution_count": 72,
   "id": "80f99cf1-5624-4f92-bdbf-bc935263e88a",
   "metadata": {},
   "outputs": [
    {
     "data": {
      "text/plain": [
       "array(['A1', 'A2', 'A3', 'A4', 'A5', 'B1', 'B2', 'B3', 'B4', 'B5', 'C1', 'C2', 'C3', 'C4', 'C5', 'D1', 'D2', 'D3', 'D4', 'D5', 'E1', 'E2', 'E3', 'E4', 'E5', 'F1', 'F2', 'F3', 'F4', 'F5', 'G1', 'G2',\n",
       "       'G3', 'G4', 'G5', 'H1'], dtype='<U69')"
      ]
     },
     "execution_count": 72,
     "metadata": {},
     "output_type": "execute_result"
    }
   ],
   "source": [
    "# Extracting the unique values\n",
    "np.unique(arr_strings[:,3])"
   ]
  },
  {
   "cell_type": "code",
   "execution_count": 73,
   "id": "db6ae0f6-c782-467d-b5b5-129bcee04398",
   "metadata": {},
   "outputs": [
    {
     "data": {
      "text/plain": [
       "'A1'"
      ]
     },
     "execution_count": 73,
     "metadata": {},
     "output_type": "execute_result"
    }
   ],
   "source": [
    "# Creting a list of keys\n",
    "keys = list(np.unique(arr_strings[:,3]))\n",
    "keys[0]"
   ]
  },
  {
   "cell_type": "code",
   "execution_count": 75,
   "id": "2f774363-73cf-42e4-8b30-4cc2b4beeda7",
   "metadata": {},
   "outputs": [
    {
     "data": {
      "text/plain": [
       "1"
      ]
     },
     "execution_count": 75,
     "metadata": {},
     "output_type": "execute_result"
    }
   ],
   "source": [
    "# Creating a list of values\n",
    "values = list(range(1, np.unique(arr_strings[:,3]).shape[0] + 1))\n",
    "values[0]"
   ]
  },
  {
   "cell_type": "code",
   "execution_count": 77,
   "id": "f981e446-4b72-4d36-bc6d-1ac8e4ec2736",
   "metadata": {},
   "outputs": [],
   "source": [
    "# Creating the dictionary\n",
    "dict_sub_grade = dict(zip(keys, values))"
   ]
  },
  {
   "cell_type": "code",
   "execution_count": 78,
   "id": "1f0fc7e8-6c6e-46f9-aa18-82d496e12724",
   "metadata": {},
   "outputs": [
    {
     "data": {
      "text/plain": [
       "{'A1': 1,\n",
       " 'A2': 2,\n",
       " 'A3': 3,\n",
       " 'A4': 4,\n",
       " 'A5': 5,\n",
       " 'B1': 6,\n",
       " 'B2': 7,\n",
       " 'B3': 8,\n",
       " 'B4': 9,\n",
       " 'B5': 10,\n",
       " 'C1': 11,\n",
       " 'C2': 12,\n",
       " 'C3': 13,\n",
       " 'C4': 14,\n",
       " 'C5': 15,\n",
       " 'D1': 16,\n",
       " 'D2': 17,\n",
       " 'D3': 18,\n",
       " 'D4': 19,\n",
       " 'D5': 20,\n",
       " 'E1': 21,\n",
       " 'E2': 22,\n",
       " 'E3': 23,\n",
       " 'E4': 24,\n",
       " 'E5': 25,\n",
       " 'F1': 26,\n",
       " 'F2': 27,\n",
       " 'F3': 28,\n",
       " 'F4': 29,\n",
       " 'F5': 30,\n",
       " 'G1': 31,\n",
       " 'G2': 32,\n",
       " 'G3': 33,\n",
       " 'G4': 34,\n",
       " 'G5': 35,\n",
       " 'H1': 36}"
      ]
     },
     "execution_count": 78,
     "metadata": {},
     "output_type": "execute_result"
    }
   ],
   "source": [
    "dict_sub_grade"
   ]
  },
  {
   "cell_type": "code",
   "execution_count": 80,
   "id": "b03fee10-0cf8-4127-8e19-5a56fbb5ccba",
   "metadata": {},
   "outputs": [],
   "source": [
    "# Loop to replace the string with categories by the numeric representation(frequency)\n",
    "for i in np.unique(arr_strings[:,3]):\n",
    "    arr_strings[:,3] = np.where(arr_strings[:,3] == i, dict_sub_grade[i], arr_strings[:,3])"
   ]
  },
  {
   "cell_type": "code",
   "execution_count": 82,
   "id": "aad64b65-7864-4041-b742-01dba6378ee4",
   "metadata": {},
   "outputs": [
    {
     "data": {
      "text/plain": [
       "array(['1', '10', '11', '12', '13', '14', '15', '16', '17', '18', '19', '2', '20', '21', '22', '23', '24', '25', '26', '27', '28', '29', '3', '30', '31', '32', '33', '34', '35', '36', '4', '5', '6',\n",
       "       '7', '8', '9'], dtype='<U69')"
      ]
     },
     "execution_count": 82,
     "metadata": {},
     "output_type": "execute_result"
    }
   ],
   "source": [
    "# Extracting the unique values\n",
    "np.unique(arr_strings[:,3])"
   ]
  },
  {
   "cell_type": "markdown",
   "id": "edbaf20c-9d41-45a9-af59-0c18900ad2d1",
   "metadata": {},
   "source": [
    "### Preprocessing 'verification_status' variable with Binarization"
   ]
  },
  {
   "cell_type": "code",
   "execution_count": 84,
   "id": "1d1bf7c2-17de-426b-93ef-6561e6345f43",
   "metadata": {},
   "outputs": [
    {
     "data": {
      "text/plain": [
       "array(['issue_date', 'loan_status', 'term_months', 'sub_grade', 'verification_status', 'url', 'addr_state'], dtype='<U19')"
      ]
     },
     "execution_count": 84,
     "metadata": {},
     "output_type": "execute_result"
    }
   ],
   "source": [
    "header_strings"
   ]
  },
  {
   "cell_type": "code",
   "execution_count": 85,
   "id": "d17419dd-70cc-4588-a9d1-85571273f9a9",
   "metadata": {},
   "outputs": [
    {
     "data": {
      "text/plain": [
       "array(['', 'Not Verified', 'Source Verified', 'Verified'], dtype='<U69')"
      ]
     },
     "execution_count": 85,
     "metadata": {},
     "output_type": "execute_result"
    }
   ],
   "source": [
    "#Extracting the unique values\n",
    "np.unique(arr_strings[:,4])"
   ]
  },
  {
   "cell_type": "code",
   "execution_count": 88,
   "id": "2a08b466-c7ab-4cb3-bea6-2c2d3ea57667",
   "metadata": {},
   "outputs": [],
   "source": [
    "# Using binarization\n",
    "arr_strings[:,4] = np.where((arr_strings[:,4] == '') | (arr_strings[:,4] == 'Not Verified'), 0, 1)"
   ]
  },
  {
   "cell_type": "code",
   "execution_count": 89,
   "id": "7337aa1a-60b6-4006-9e7a-80b167571c8e",
   "metadata": {},
   "outputs": [
    {
     "data": {
      "text/plain": [
       "array(['0', '1'], dtype='<U69')"
      ]
     },
     "execution_count": 89,
     "metadata": {},
     "output_type": "execute_result"
    }
   ],
   "source": [
    "# Extracting the unique values\n",
    "np.unique(arr_strings[:,4])"
   ]
  },
  {
   "cell_type": "markdown",
   "id": "109c3974-ea21-4461-8550-82f6c1aa8d73",
   "metadata": {},
   "source": [
    "### Preprocessing 'url' variable using ID extraction"
   ]
  },
  {
   "cell_type": "code",
   "execution_count": 90,
   "id": "2b31ca83-57ee-46b0-b63e-dd0f994e5dc7",
   "metadata": {},
   "outputs": [
    {
     "data": {
      "text/plain": [
       "array(['issue_date', 'loan_status', 'term_months', 'sub_grade', 'verification_status', 'url', 'addr_state'], dtype='<U19')"
      ]
     },
     "execution_count": 90,
     "metadata": {},
     "output_type": "execute_result"
    }
   ],
   "source": [
    "header_strings"
   ]
  },
  {
   "cell_type": "code",
   "execution_count": 91,
   "id": "c9376f7b-32bd-40f1-b097-b7f83befacb9",
   "metadata": {},
   "outputs": [
    {
     "data": {
      "text/plain": [
       "array(['https://www.lendingclub.com/browse/loanDetail.action?loan_id=12606806', 'https://www.lendingclub.com/browse/loanDetail.action?loan_id=13026045',\n",
       "       'https://www.lendingclub.com/browse/loanDetail.action?loan_id=1312426', ..., 'https://www.lendingclub.com/browse/loanDetail.action?loan_id=8138291',\n",
       "       'https://www.lendingclub.com/browse/loanDetail.action?loan_id=8214572', 'https://www.lendingclub.com/browse/loanDetail.action?loan_id=849994'], dtype='<U69')"
      ]
     },
     "execution_count": 91,
     "metadata": {},
     "output_type": "execute_result"
    }
   ],
   "source": [
    "# Extracting the unique values\n",
    "np.unique(arr_strings[:,5])"
   ]
  },
  {
   "cell_type": "code",
   "execution_count": 92,
   "id": "94045b60-849f-4562-b265-2b9412f26f04",
   "metadata": {},
   "outputs": [
    {
     "data": {
      "text/plain": [
       "chararray(['48010226', '57693261', '59432726', ..., '50415990', '46154151', '66055249'], dtype='<U69')"
      ]
     },
     "execution_count": 92,
     "metadata": {},
     "output_type": "execute_result"
    }
   ],
   "source": [
    "# Extracting the id in the end of the each url\n",
    "np.chararray.strip(arr_strings[:,5], \"https://www.lendingclub.com/browse/loanDetail.action?loan_id=\")"
   ]
  },
  {
   "cell_type": "code",
   "execution_count": 93,
   "id": "34dcca11-aac3-4eed-9ae0-125e78d8b9e7",
   "metadata": {},
   "outputs": [],
   "source": [
    "# Replacing the url with id value in the url variable\n",
    "arr_strings[:,5] = np.chararray.strip(arr_strings[:,5], \"https://www.lendingclub.com/browse/loanDetail.action?loan_id=\")"
   ]
  },
  {
   "cell_type": "code",
   "execution_count": 94,
   "id": "431a5ed8-c58a-46e5-bb4f-bdec92aa46fc",
   "metadata": {},
   "outputs": [
    {
     "data": {
      "text/plain": [
       "array([48010226, 57693261, 59432726, ..., 50415990, 46154151, 66055249])"
      ]
     },
     "execution_count": 94,
     "metadata": {},
     "output_type": "execute_result"
    }
   ],
   "source": [
    "# Converting to type int32\n",
    "arr_strings[:,5].astype(dtype = np.int32)"
   ]
  },
  {
   "cell_type": "code",
   "execution_count": 96,
   "id": "8367cdce-3694-4ab2-9ab4-ace1cc281c72",
   "metadata": {},
   "outputs": [
    {
     "data": {
      "text/plain": [
       "array([48010226, 57693261, 59432726, ..., 50415990, 46154151, 66055249])"
      ]
     },
     "execution_count": 96,
     "metadata": {},
     "output_type": "execute_result"
    }
   ],
   "source": [
    "# Sounds this id is present in the first column of the dataset\n",
    "# converting to int32 and comparing\n",
    "arr_numeric[:,0]. astype(dtype = np.int32)"
   ]
  },
  {
   "cell_type": "code",
   "execution_count": 98,
   "id": "fc674b22-e8c4-4fb2-961e-377c7e9b1289",
   "metadata": {},
   "outputs": [
    {
     "data": {
      "text/plain": [
       "True"
      ]
     },
     "execution_count": 98,
     "metadata": {},
     "output_type": "execute_result"
    }
   ],
   "source": [
    "np.array_equal(arr_numeric[:,0].astype(dtype = np.int32), arr_strings[:,5].astype(dtype = np.int32))"
   ]
  },
  {
   "cell_type": "markdown",
   "id": "ac26fb92-c42f-45c5-b9f8-9a597fdc7b1b",
   "metadata": {},
   "source": [
    "Yes! It's the same information. In this case I get remove one of the columns"
   ]
  },
  {
   "cell_type": "code",
   "execution_count": 99,
   "id": "03dc0d1f-e588-40fd-ae52-ebf6aa5bf825",
   "metadata": {},
   "outputs": [],
   "source": [
    "# Removing from the data array\n",
    "arr_strings = np.delete(arr_strings, 5, axis = 1)"
   ]
  },
  {
   "cell_type": "code",
   "execution_count": 100,
   "id": "1589d15b-a391-42c8-be94-0b7e4c1eff3f",
   "metadata": {},
   "outputs": [],
   "source": [
    "# Removing the header array column\n",
    "header_strings = np.delete(header_strings, 5)"
   ]
  },
  {
   "cell_type": "code",
   "execution_count": 101,
   "id": "00911d80-9f26-4aae-ad47-9d1b8d71c194",
   "metadata": {},
   "outputs": [
    {
     "data": {
      "text/plain": [
       "array(['CA', 'NY', 'PA', ..., 'CA', 'OH', 'IL'], dtype='<U69')"
      ]
     },
     "execution_count": 101,
     "metadata": {},
     "output_type": "execute_result"
    }
   ],
   "source": [
    "# New index column 5\n",
    "arr_strings[:,5]"
   ]
  },
  {
   "cell_type": "code",
   "execution_count": 102,
   "id": "93317f8e-d593-4730-acb3-163971476029",
   "metadata": {},
   "outputs": [
    {
     "data": {
      "text/plain": [
       "array(['issue_date', 'loan_status', 'term_months', 'sub_grade', 'verification_status', 'addr_state'], dtype='<U19')"
      ]
     },
     "execution_count": 102,
     "metadata": {},
     "output_type": "execute_result"
    }
   ],
   "source": [
    "# New column list\n",
    "header_strings"
   ]
  },
  {
   "cell_type": "code",
   "execution_count": 103,
   "id": "465960a8-fa00-49ea-b829-af3bbabbd926",
   "metadata": {},
   "outputs": [
    {
     "data": {
      "text/plain": [
       "array([48010226.  ,    35000.  ,    35000.  ,       13.33,     1184.86,     9452.96])"
      ]
     },
     "execution_count": 103,
     "metadata": {},
     "output_type": "execute_result"
    }
   ],
   "source": [
    "arr_numeric[0]"
   ]
  },
  {
   "cell_type": "code",
   "execution_count": 104,
   "id": "4f3b2ce7-d928-4811-9b50-264df5a272c4",
   "metadata": {},
   "outputs": [
    {
     "data": {
      "text/plain": [
       "array(['id', 'loan_amnt', 'funded_amnt', 'int_rate', 'installment', 'total_pymnt'], dtype='<U19')"
      ]
     },
     "execution_count": 104,
     "metadata": {},
     "output_type": "execute_result"
    }
   ],
   "source": [
    "header_numeric"
   ]
  },
  {
   "cell_type": "markdown",
   "id": "66fb2017-6c62-4cff-81de-2e908d083696",
   "metadata": {},
   "source": [
    "### Preprocessing 'addr_state' variable using Categorization"
   ]
  },
  {
   "cell_type": "code",
   "execution_count": 108,
   "id": "40fe285b-5a18-4fcf-a503-73304e9c5dc5",
   "metadata": {},
   "outputs": [
    {
     "data": {
      "text/plain": [
       "array(['issue_date', 'loan_status', 'term_months', 'sub_grade', 'verification_status', 'state_address'], dtype='<U19')"
      ]
     },
     "execution_count": 108,
     "metadata": {},
     "output_type": "execute_result"
    }
   ],
   "source": [
    "header_strings"
   ]
  },
  {
   "cell_type": "code",
   "execution_count": 109,
   "id": "2a949bf4-bbaa-4046-ac23-0167318bd1a4",
   "metadata": {},
   "outputs": [
    {
     "data": {
      "text/plain": [
       "array(['', 'AK', 'AL', 'AR', 'AZ', 'CA', 'CO', 'CT', 'DC', 'DE', 'FL', 'GA', 'HI', 'IL', 'IN', 'KS', 'KY', 'LA', 'MA', 'MD', 'ME', 'MI', 'MN', 'MO', 'MS', 'MT', 'NC', 'ND', 'NE', 'NH', 'NJ', 'NM',\n",
       "       'NV', 'NY', 'OH', 'OK', 'OR', 'PA', 'RI', 'SC', 'SD', 'TN', 'TX', 'UT', 'VA', 'VT', 'WA', 'WI', 'WV', 'WY'], dtype='<U69')"
      ]
     },
     "execution_count": 109,
     "metadata": {},
     "output_type": "execute_result"
    }
   ],
   "source": [
    "np.unique(arr_strings[:,5])"
   ]
  },
  {
   "cell_type": "code",
   "execution_count": 110,
   "id": "f13ee670-03c3-4ebe-a43c-23652a649ff4",
   "metadata": {},
   "outputs": [],
   "source": [
    "# Renaming the column\n",
    "header_strings[5] = 'state_address'"
   ]
  },
  {
   "cell_type": "code",
   "execution_count": 112,
   "id": "4c58082e-ebc0-4b73-8ff0-4c44294118e5",
   "metadata": {},
   "outputs": [],
   "source": [
    "# Extracting names and counts -> Count means how often each category appears in the array\n",
    "# This operation returns 2 numbers, it's why I put 2 variables (states_names and states_counts)\n",
    "states_names, states_counts = np.unique(arr_strings[:,5], return_counts = True)"
   ]
  },
  {
   "cell_type": "code",
   "execution_count": 114,
   "id": "0e1a7937-4ffa-4caa-baa0-a16ae2576bf4",
   "metadata": {},
   "outputs": [],
   "source": [
    "# Sorting in descending order\n",
    "states_count_sorted = np.argsort(-states_counts)"
   ]
  },
  {
   "cell_type": "code",
   "execution_count": 116,
   "id": "9d74f29e-5934-4aaa-a8c2-ae9ccb1deb15",
   "metadata": {},
   "outputs": [
    {
     "data": {
      "text/plain": [
       "(array(['CA', 'NY', 'TX', 'FL', '', 'IL', 'NJ', 'GA', 'PA', 'OH', 'MI', 'NC', 'VA', 'MD', 'AZ', 'WA', 'MA', 'CO', 'MO', 'MN', 'IN', 'WI', 'CT', 'TN', 'NV', 'AL', 'LA', 'OR', 'SC', 'KY', 'KS', 'OK',\n",
       "        'UT', 'AR', 'MS', 'NH', 'NM', 'WV', 'HI', 'RI', 'MT', 'DE', 'DC', 'WY', 'AK', 'NE', 'SD', 'VT', 'ND', 'ME'], dtype='<U69'),\n",
       " array([1336,  777,  758,  690,  500,  389,  341,  321,  320,  312,  267,  261,  242,  222,  220,  216,  210,  201,  160,  156,  152,  148,  143,  143,  130,  119,  116,  108,  107,   84,   84,   83,\n",
       "          74,   74,   61,   58,   57,   49,   44,   40,   28,   27,   27,   27,   26,   25,   24,   17,   16,   10], dtype=int64))"
      ]
     },
     "execution_count": 116,
     "metadata": {},
     "output_type": "execute_result"
    }
   ],
   "source": [
    "# Printing result\n",
    "states_names[states_count_sorted], states_counts[states_count_sorted]"
   ]
  },
  {
   "cell_type": "code",
   "execution_count": 117,
   "id": "442c4454-4dae-4a16-8937-44085461d20f",
   "metadata": {},
   "outputs": [],
   "source": [
    "# Replacing missing values by zero\n",
    "arr_strings[:,5] = np.where(arr_strings[:,5] == '', 0 , arr_strings[:,5])"
   ]
  },
  {
   "cell_type": "markdown",
   "id": "b06bffb0-7149-4976-91da-abb137eacf4c",
   "metadata": {},
   "source": [
    "Organising states by region. Reference: https://www2.census.gov/geo/pdfs/maps-data/maps/reference/us_regdiv.pdf"
   ]
  },
  {
   "cell_type": "code",
   "execution_count": 118,
   "id": "b207347c-9b2f-44c0-931a-243b67292fff",
   "metadata": {},
   "outputs": [],
   "source": [
    "# Creating arrays with states to each region\n",
    "states_west = np.array(['WA', 'OR', 'CA', 'NV', 'ID', 'MT', 'WY' ,'UT', 'CO', 'AZ', 'NM', 'HI', 'AK'])\n",
    "states_south = np.array(['TX', 'OK', 'AR', 'LA', 'MS', 'AL', 'TN', 'KY', 'FL', 'GA', 'SC','NC', 'VA', 'WV','MD', 'DE', 'DC'])\n",
    "states_midwest = np.array(['ND', 'SD', 'NE', 'KS', 'MN', 'IA', 'MO', 'WI', 'IL', 'IN', 'MI', 'OH'])\n",
    "states_east = np.array(['PA', 'NY', 'NJ', 'CT', 'MA', 'VT', 'NH', 'ME', 'RI'])"
   ]
  },
  {
   "cell_type": "code",
   "execution_count": 121,
   "id": "f9b53a48-d2bc-405b-8ccc-9eeb5c77bad6",
   "metadata": {},
   "outputs": [],
   "source": [
    "# Replacing each state by its id region\n",
    "arr_strings[:,5] = np.where(np.isin(arr_strings[:,5], states_west), 1, arr_strings[:,5])\n",
    "arr_strings[:,5] = np.where(np.isin(arr_strings[:,5], states_south), 2, arr_strings[:,5])\n",
    "arr_strings[:,5] = np.where(np.isin(arr_strings[:,5], states_midwest), 3, arr_strings[:,5])\n",
    "arr_strings[:,5] = np.where(np.isin(arr_strings[:,5], states_east), 4, arr_strings[:,5])"
   ]
  },
  {
   "cell_type": "code",
   "execution_count": 122,
   "id": "d612a8b9-d409-42a9-8f77-cd9d6874d052",
   "metadata": {},
   "outputs": [
    {
     "data": {
      "text/plain": [
       "array(['0', '1', '2', '3', '4'], dtype='<U69')"
      ]
     },
     "execution_count": 122,
     "metadata": {},
     "output_type": "execute_result"
    }
   ],
   "source": [
    "# Extracting the unique values\n",
    "np.unique(arr_strings[:,5])"
   ]
  },
  {
   "cell_type": "markdown",
   "id": "3c5924d5-7df4-405f-b8ab-2f3b17df0b51",
   "metadata": {},
   "source": [
    "**I can modify the data, but I cannot modify the information!**"
   ]
  },
  {
   "cell_type": "markdown",
   "id": "89aa35f5-3fa4-47da-95a8-1b985f5c178b",
   "metadata": {},
   "source": [
    "### Converting the array\n",
    "My strings array is now a numeric array, after all the transformations above. I need to adjust the data type"
   ]
  },
  {
   "cell_type": "code",
   "execution_count": 123,
   "id": "d6f708eb-f72c-42ce-8278-7ced8e012c00",
   "metadata": {},
   "outputs": [
    {
     "data": {
      "text/plain": [
       "array([['5', '1', '36', '13', '1', '1'],\n",
       "       ['0', '1', '36', '5', '1', '4'],\n",
       "       ['9', '1', '36', '10', '1', '4'],\n",
       "       ...,\n",
       "       ['6', '1', '36', '5', '1', '1'],\n",
       "       ['4', '1', '36', '17', '1', '3'],\n",
       "       ['12', '1', '36', '4', '0', '3']], dtype='<U69')"
      ]
     },
     "execution_count": 123,
     "metadata": {},
     "output_type": "execute_result"
    }
   ],
   "source": [
    "arr_strings"
   ]
  },
  {
   "cell_type": "code",
   "execution_count": 124,
   "id": "a1df7041-b888-43b5-b143-25284ffd503f",
   "metadata": {},
   "outputs": [],
   "source": [
    "arr_strings = arr_strings.astype(int)"
   ]
  },
  {
   "cell_type": "code",
   "execution_count": 125,
   "id": "e363198d-70c0-42ba-8e5a-0c0b77efeae9",
   "metadata": {},
   "outputs": [
    {
     "data": {
      "text/plain": [
       "array([[ 5,  1, 36, 13,  1,  1],\n",
       "       [ 0,  1, 36,  5,  1,  4],\n",
       "       [ 9,  1, 36, 10,  1,  4],\n",
       "       ...,\n",
       "       [ 6,  1, 36,  5,  1,  1],\n",
       "       [ 4,  1, 36, 17,  1,  3],\n",
       "       [12,  1, 36,  4,  0,  3]])"
      ]
     },
     "execution_count": 125,
     "metadata": {},
     "output_type": "execute_result"
    }
   ],
   "source": [
    "arr_strings"
   ]
  },
  {
   "cell_type": "code",
   "execution_count": 127,
   "id": "3be4b3b5-e1eb-4ca4-b126-4f3c99172edb",
   "metadata": {},
   "outputs": [
    {
     "data": {
      "text/plain": [
       "dtype('int32')"
      ]
     },
     "execution_count": 127,
     "metadata": {},
     "output_type": "execute_result"
    }
   ],
   "source": [
    "arr_strings.dtype"
   ]
  },
  {
   "cell_type": "markdown",
   "id": "9d1ce933-cdbb-4955-a217-7b3a4106e1d1",
   "metadata": {},
   "source": [
    "## Checkpoint with clean and preprocessed string variables\n",
    "Checkpoint 2\n",
    "I finished the first part, now I will record the checkpoint."
   ]
  },
  {
   "cell_type": "code",
   "execution_count": 129,
   "id": "58eb26fe-2cc7-46c9-a0fd-d1cab2d9b545",
   "metadata": {},
   "outputs": [],
   "source": [
    "checkpoint_strings = checkpoint('data_set/checkpoint-strings', header_strings, arr_strings)"
   ]
  },
  {
   "cell_type": "code",
   "execution_count": 130,
   "id": "9c7dd8d6-55ea-47a3-ba69-dff3944dcd21",
   "metadata": {},
   "outputs": [
    {
     "data": {
      "text/plain": [
       "array(['issue_date', 'loan_status', 'term_months', 'sub_grade', 'verification_status', 'state_address'], dtype='<U19')"
      ]
     },
     "execution_count": 130,
     "metadata": {},
     "output_type": "execute_result"
    }
   ],
   "source": [
    "checkpoint_strings['header']"
   ]
  },
  {
   "cell_type": "code",
   "execution_count": 131,
   "id": "f77a27bd-5619-4168-a4cf-e14f42040711",
   "metadata": {},
   "outputs": [
    {
     "data": {
      "text/plain": [
       "array([[ 5,  1, 36, 13,  1,  1],\n",
       "       [ 0,  1, 36,  5,  1,  4],\n",
       "       [ 9,  1, 36, 10,  1,  4],\n",
       "       ...,\n",
       "       [ 6,  1, 36,  5,  1,  1],\n",
       "       [ 4,  1, 36, 17,  1,  3],\n",
       "       [12,  1, 36,  4,  0,  3]])"
      ]
     },
     "execution_count": 131,
     "metadata": {},
     "output_type": "execute_result"
    }
   ],
   "source": [
    "checkpoint_strings['data']"
   ]
  },
  {
   "cell_type": "code",
   "execution_count": 132,
   "id": "881ddf36-6054-496c-a5ea-ddfca876f8b9",
   "metadata": {},
   "outputs": [
    {
     "data": {
      "text/plain": [
       "True"
      ]
     },
     "execution_count": 132,
     "metadata": {},
     "output_type": "execute_result"
    }
   ],
   "source": [
    "np.array_equal(checkpoint_strings['data'], arr_strings)"
   ]
  },
  {
   "cell_type": "code",
   "execution_count": null,
   "id": "62660af4-ac1e-4e8c-a4a5-7abd1e9cef2e",
   "metadata": {},
   "outputs": [],
   "source": []
  },
  {
   "cell_type": "code",
   "execution_count": null,
   "id": "f3964ceb-f588-49f3-b2b0-eff815330417",
   "metadata": {},
   "outputs": [],
   "source": []
  },
  {
   "cell_type": "code",
   "execution_count": null,
   "id": "e2d393e8-f26e-4430-b7ed-2335e7c2c421",
   "metadata": {},
   "outputs": [],
   "source": []
  },
  {
   "cell_type": "code",
   "execution_count": null,
   "id": "ee38eaa8-e4ea-4370-b109-4dcdec6479a8",
   "metadata": {},
   "outputs": [],
   "source": []
  },
  {
   "cell_type": "code",
   "execution_count": null,
   "id": "d172bff1-e365-4bb7-be30-6b6fa9fce148",
   "metadata": {},
   "outputs": [],
   "source": []
  }
 ],
 "metadata": {
  "kernelspec": {
   "display_name": "Python 3 (ipykernel)",
   "language": "python",
   "name": "python3"
  },
  "language_info": {
   "codemirror_mode": {
    "name": "ipython",
    "version": 3
   },
   "file_extension": ".py",
   "mimetype": "text/x-python",
   "name": "python",
   "nbconvert_exporter": "python",
   "pygments_lexer": "ipython3",
   "version": "3.11.7"
  }
 },
 "nbformat": 4,
 "nbformat_minor": 5
}
